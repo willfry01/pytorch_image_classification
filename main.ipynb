{
 "cells": [
  {
   "cell_type": "code",
   "execution_count": 2,
   "metadata": {},
   "outputs": [],
   "source": [
    "#Torch and torchvision imports \n",
    "import torch\n",
    "import torchvision\n",
    "import torchvision.transforms as transforms"
   ]
  },
  {
   "cell_type": "code",
   "execution_count": 3,
   "metadata": {},
   "outputs": [
    {
     "name": "stdout",
     "output_type": "stream",
     "text": [
      "Downloading https://www.cs.toronto.edu/~kriz/cifar-10-python.tar.gz to ./data/cifar-10-python.tar.gz\n"
     ]
    },
    {
     "name": "stderr",
     "output_type": "stream",
     "text": [
      "100.0%\n"
     ]
    },
    {
     "name": "stdout",
     "output_type": "stream",
     "text": [
      "Extracting ./data/cifar-10-python.tar.gz to ./data\n",
      "Files already downloaded and verified\n"
     ]
    }
   ],
   "source": [
    "'''\n",
    "Used to convert the image to a tensor\n",
    "A tensor is an algebraic object that describes a multilinear relationship between sets of algebraic objects related to a vector space.\n",
    "The tensor is then normalised (setting values between 0 and 1)\n",
    "'''\n",
    "transform = transforms.Compose(\n",
    "    [transforms.ToTensor(),\n",
    "    transforms.Normalize((0.5, 0.5, 0.5), (0.5, 0.5, 0.5))])\n",
    "\n",
    "#Importing the test and train datasets and applies the transformation\n",
    "trainset = torchvision.datasets.CIFAR10(root = './data', train = True, download = True, transform = transform)\n",
    "testset = torchvision.datasets.CIFAR10(root = './data', train = False, download = True, transform = transform)\n",
    "\n",
    "#DataLoader wraps an iterable around the Dataset to enable easy access to the samples\n",
    "trainloader = torch.utils.data.DataLoader(trainset, batch_size = 4, shuffle = True, num_workers = 2)\n",
    "testloader = torch.utils.data.DataLoader(testset, batch_size = 4, shuffle = True, num_workers = 2)\n",
    "\n",
    "#Classes of the target variable (y) instead of having a 0 - 9 \n",
    "classes = ('plane', 'car', 'bird', 'cat', 'deer', 'dog', 'frog', 'horse', 'ship', 'truck')"
   ]
  },
  {
   "cell_type": "code",
   "execution_count": 4,
   "metadata": {},
   "outputs": [
    {
     "name": "stderr",
     "output_type": "stream",
     "text": [
      "Clipping input data to the valid range for imshow with RGB data ([0..1] for floats or [0..255] for integers).\n"
     ]
    },
    {
     "data": {
      "image/png": "[encoded data removed]",
      "text/plain": [
       "<Figure size 432x288 with 1 Axes>"
      ]
     },
     "metadata": {
      "needs_background": "light"
     },
     "output_type": "display_data"
    },
    {
     "name": "stdout",
     "output_type": "stream",
     "text": [
      " deer plane truck   cat\n"
     ]
    }
   ],
   "source": [
    "import matplotlib.pyplot as plt\n",
    "import numpy as np\n",
    "'''\n",
    "Function to plot the images (Not sure why they are so dark)\n",
    "'''\n",
    "def imshow(img):\n",
    "    img = img / 2 * 0.5\n",
    "    npimg = img.numpy()\n",
    "    plt.imshow(np.transpose(npimg, (1, 2, 0)))\n",
    "    plt.show()\n",
    "\n",
    "#These lines iterate over the dataset to take a sample of data i.e the picture and its lables\n",
    "dataiter = iter(trainloader)\n",
    "images, lables = dataiter.next()\n",
    "\n",
    "imshow(torchvision.utils.make_grid(images))\n",
    "\n",
    "#Printing the lables of the pictures\n",
    "print(' '.join('%5s' % classes[lables[j]] for j in range(4)))"
   ]
  },
  {
   "cell_type": "code",
   "execution_count": 6,
   "metadata": {},
   "outputs": [],
   "source": [
    "import torch.nn as nn\n",
    "import torch.nn.functional as F\n",
    "'''\n",
    "Creating the neural network function using torch's neural network (nn) class.\n",
    "Creating a Neural Netowrk object by extending the torch.nn.Module base class\n",
    "'''\n",
    "class Net(nn.Module):\n",
    "    def __init__(self):\n",
    "        super(Net, self).__init__() #For extending torch.nn\n",
    "        #Max pooling layer (Calculates the maximum value in each patch of each feature map,\n",
    "        #highlights the most present feature in the patch)\n",
    "        self.pool = nn.MaxPool2d(2,2)\n",
    "\n",
    "        '''\n",
    "        Convolution and liniar layers\n",
    "        kernel_size, out_channels and out_features values are chosen arbitrarily, \n",
    "        This means that we choose the values mainly based on trial and error and utilising values that have proven to work in the past\n",
    "        \n",
    "\n",
    "        kernel_size: Sets the filter size, the words kernel and filter are interchangable,\n",
    "        kernel_size is actually a tupple this is because our filters actually have a height and width,\n",
    "        and when we pass a single number,the code inside the layer's constructor assumes that we want a square filter.\n",
    "\n",
    "        out_channels: Sets the number of filters. One filter produces one output channel\n",
    "        \n",
    "        out_features: Sets the sixe of the output tensor\n",
    "\n",
    "        in_channels in the first convolutional layer is based on the number of colour channels in the data (1 for greyscale.etc)\n",
    "        out_features of the final Liniar layer must be the number of classes in the training set\n",
    "        in_features of the first Liniar layer has the *4*4 as we need to flatten the data from the last convolutional layer\n",
    "\n",
    "        The inuput of one layer is the output of the previous layer\n",
    "        \n",
    "        Learnable parameters\n",
    "        Learnable parameters are parameters whose values are learned during the training process.\n",
    "\n",
    "        With learnable parameters, we typically start out with a set of arbitrary values,\n",
    "        and these values then get updated in an iterative fashion as the network learns.\n",
    "        '''\n",
    "        self.conv1 = nn.Conv2d(in_channels=3, out_channels=6, kernel_size=5)\n",
    "        self.conv2 = nn.Conv2d(in_channels=6, out_channels=16, kernel_size=5)\n",
    "\n",
    "        \n",
    "\n",
    "        #Liniar layers (the fc stands for fully connected as this is another name for Liniar layers)\n",
    "        self.fc1 = nn.Linear(in_features = 16 * 5 * 5, out_features=120)\n",
    "        self.fc2 = nn.Linear(in_features=120, out_features=84)\n",
    "        self.fc3 = nn.Linear(in_features=84, out_features=10)\n",
    "    \n",
    "    '''\n",
    "    fowaard function, a tensor flowing foward through the nn is known as a foward pass.\n",
    "    Each layer has its own transformation and the tensor passes foward through each layer's transformation\n",
    "    '''\n",
    "\n",
    "    def forward(self, x):\n",
    "        x = self.pool(F.relu(self.conv1(x)))\n",
    "        x = self.pool(F.relu(self.conv2(x)))\n",
    "        x = x.view(-1, 16 * 5 * 5)\n",
    "        x = F.relu(self.fc1(x))\n",
    "        x = F.relu(self.fc2(x))\n",
    "        x = self.fc3(x)\n",
    "        return x\n",
    "\n",
    "net = Net()"
   ]
  },
  {
   "cell_type": "code",
   "execution_count": 7,
   "metadata": {},
   "outputs": [],
   "source": [
    "import torch.optim as optim\n",
    "\n",
    "criterion = nn.CrossEntropyLoss()\n",
    "optimizer = optim.SGD(net.parameters(), lr = 0.001, momentum = 0.9)"
   ]
  },
  {
   "cell_type": "code",
   "execution_count": 8,
   "metadata": {},
   "outputs": [
    {
     "name": "stdout",
     "output_type": "stream",
     "text": [
      "cpu\n",
      "[1,  2000] loss: 2.178\n",
      "[1,  4000] loss: 1.818\n",
      "[1,  6000] loss: 1.673\n",
      "[1,  8000] loss: 1.548\n",
      "[1, 10000] loss: 1.524\n",
      "[1, 12000] loss: 1.476\n",
      "[2,  2000] loss: 1.390\n",
      "[2,  4000] loss: 1.368\n",
      "[2,  6000] loss: 1.357\n",
      "[2,  8000] loss: 1.319\n",
      "[2, 10000] loss: 1.296\n",
      "[2, 12000] loss: 1.295\n",
      "Finished Training\n"
     ]
    }
   ],
   "source": [
    "device = torch.device(\"cuda:0\" if torch.cuda.is_available() else \"cpu\")\n",
    "print(device)\n",
    "for epoch in range(2):\n",
    "    running_loss = 0.0\n",
    "    for i , data in enumerate(trainloader, 0):\n",
    "        inputs, labels = data\n",
    "        \n",
    "        optimizer.zero_grad()\n",
    "\n",
    "        outputs = net(inputs)\n",
    "\n",
    "        loss = criterion(outputs, labels)\n",
    "        loss.backward()\n",
    "        optimizer.step()\n",
    "\n",
    "        running_loss += loss.item()\n",
    "        if i % 2000 == 1999:\n",
    "            print('[%d, %5d] loss: %.3f'%\n",
    "            (epoch + 1, i + 1, running_loss / 2000))\n",
    "            running_loss = 0.0\n",
    "print('Finished Training')"
   ]
  },
  {
   "cell_type": "code",
   "execution_count": 9,
   "metadata": {},
   "outputs": [],
   "source": [
    "PATH = './cifar_net.pth'\n",
    "torch.save(net.state_dict(), PATH)"
   ]
  },
  {
   "cell_type": "code",
   "execution_count": 10,
   "metadata": {},
   "outputs": [
    {
     "name": "stderr",
     "output_type": "stream",
     "text": [
      "Clipping input data to the valid range for imshow with RGB data ([0..1] for floats or [0..255] for integers).\n"
     ]
    },
    {
     "data": {
      "image/png": "[encoded data removed]",
      "text/plain": [
       "<Figure size 432x288 with 1 Axes>"
      ]
     },
     "metadata": {
      "needs_background": "light"
     },
     "output_type": "display_data"
    },
    {
     "name": "stdout",
     "output_type": "stream",
     "text": [
      "Ground Truth:    car   cat truck truck\n"
     ]
    }
   ],
   "source": [
    "dataiter = iter(testloader)\n",
    "images, lables = dataiter.next()\n",
    "imshow(torchvision.utils.make_grid(images))\n",
    "print('Ground Truth: ', ' '.join('%5s' % classes[lables[j]] for j in range(4)))"
   ]
  },
  {
   "cell_type": "code",
   "execution_count": 11,
   "metadata": {},
   "outputs": [
    {
     "data": {
      "text/plain": [
       "<All keys matched successfully>"
      ]
     },
     "execution_count": 11,
     "metadata": {},
     "output_type": "execute_result"
    }
   ],
   "source": [
    "net = Net()\n",
    "net.load_state_dict(torch.load(PATH))"
   ]
  },
  {
   "cell_type": "code",
   "execution_count": 12,
   "metadata": {},
   "outputs": [],
   "source": [
    "outputs = net(images)"
   ]
  },
  {
   "cell_type": "code",
   "execution_count": 13,
   "metadata": {},
   "outputs": [
    {
     "name": "stdout",
     "output_type": "stream",
     "text": [
      "Predicted:  truck   cat horse truck\n"
     ]
    }
   ],
   "source": [
    "_, predicted = torch.max(outputs, 1)\n",
    "\n",
    "print('Predicted: ', ' '.join('%5s' % classes[predicted[j]] for j in range(4)))"
   ]
  },
  {
   "cell_type": "code",
   "execution_count": 14,
   "metadata": {},
   "outputs": [
    {
     "name": "stdout",
     "output_type": "stream",
     "text": [
      "5515\n",
      "accuracy of the network on test images: 55 %\n"
     ]
    }
   ],
   "source": [
    "correct = 0\n",
    "total = 0\n",
    "with torch.no_grad():\n",
    "    for data in testloader:\n",
    "        images, lables = data\n",
    "        outputs = net(images)\n",
    "        _, predicted = torch.max(outputs.data, 1)\n",
    "        total +=lables.size(0)\n",
    "        correct += (predicted==lables).sum().item()\n",
    "\n",
    "print(correct)\n",
    "print(\"accuracy of the network on test images: %d %%\" %(100 * correct/ total))"
   ]
  },
  {
   "cell_type": "code",
   "execution_count": null,
   "metadata": {},
   "outputs": [],
   "source": [
    "#this is a test change"
   ]
  }
 ],
 "metadata": {
  "kernelspec": {
   "display_name": "Python 3.10.4 ('pytorch_env')",
   "language": "python",
   "name": "python3"
  },
  "language_info": {
   "codemirror_mode": {
    "name": "ipython",
    "version": 3
   },
   "file_extension": ".py",
   "mimetype": "text/x-python",
   "name": "python",
   "nbconvert_exporter": "python",
   "pygments_lexer": "ipython3",
   "version": "3.10.4"
  },
  "orig_nbformat": 4,
  "vscode": {
   "interpreter": {
    "hash": "6a3622a296dd5a0435850d84f7f465118bc4ac3c7508d100581c22f227f7b1cb"
   }
  }
 },
 "nbformat": 4,
 "nbformat_minor": 2
}
